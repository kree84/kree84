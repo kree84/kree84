{
  "cells": [
    {
      "cell_type": "markdown",
      "metadata": {
        "id": "view-in-github",
        "colab_type": "text"
      },
      "source": [
        "<a href=\"https://colab.research.google.com/github/kree84/kree84/blob/main/Acmepython_Copy3.ipynb\" target=\"_parent\"><img src=\"https://colab.research.google.com/assets/colab-badge.svg\" alt=\"Open In Colab\"/></a>"
      ]
    },
    {
      "cell_type": "code",
      "execution_count": null,
      "id": "12c2ab3f",
      "metadata": {
        "id": "12c2ab3f"
      },
      "outputs": [],
      "source": [
        "import pandas as pd"
      ]
    },
    {
      "cell_type": "code",
      "execution_count": null,
      "id": "94f54145",
      "metadata": {
        "id": "94f54145"
      },
      "outputs": [],
      "source": [
        "df = pd.read_csv(\"ACME-HappinessSurvey2020 (1).csv\")"
      ]
    },
    {
      "cell_type": "code",
      "execution_count": null,
      "id": "a0e35bdd",
      "metadata": {
        "id": "a0e35bdd",
        "outputId": "b529c283-7a73-4420-b22c-fb706dd51fb4"
      },
      "outputs": [
        {
          "data": {
            "text/html": [
              "<div>\n",
              "<style scoped>\n",
              "    .dataframe tbody tr th:only-of-type {\n",
              "        vertical-align: middle;\n",
              "    }\n",
              "\n",
              "    .dataframe tbody tr th {\n",
              "        vertical-align: top;\n",
              "    }\n",
              "\n",
              "    .dataframe thead th {\n",
              "        text-align: right;\n",
              "    }\n",
              "</style>\n",
              "<table border=\"1\" class=\"dataframe\">\n",
              "  <thead>\n",
              "    <tr style=\"text-align: right;\">\n",
              "      <th></th>\n",
              "      <th>Y</th>\n",
              "      <th>X1</th>\n",
              "      <th>X2</th>\n",
              "      <th>X3</th>\n",
              "      <th>X4</th>\n",
              "      <th>X5</th>\n",
              "      <th>X6</th>\n",
              "    </tr>\n",
              "  </thead>\n",
              "  <tbody>\n",
              "    <tr>\n",
              "      <th>0</th>\n",
              "      <td>0</td>\n",
              "      <td>3</td>\n",
              "      <td>3</td>\n",
              "      <td>3</td>\n",
              "      <td>4</td>\n",
              "      <td>2</td>\n",
              "      <td>4</td>\n",
              "    </tr>\n",
              "    <tr>\n",
              "      <th>1</th>\n",
              "      <td>0</td>\n",
              "      <td>3</td>\n",
              "      <td>2</td>\n",
              "      <td>3</td>\n",
              "      <td>5</td>\n",
              "      <td>4</td>\n",
              "      <td>3</td>\n",
              "    </tr>\n",
              "    <tr>\n",
              "      <th>2</th>\n",
              "      <td>1</td>\n",
              "      <td>5</td>\n",
              "      <td>3</td>\n",
              "      <td>3</td>\n",
              "      <td>3</td>\n",
              "      <td>3</td>\n",
              "      <td>5</td>\n",
              "    </tr>\n",
              "    <tr>\n",
              "      <th>3</th>\n",
              "      <td>0</td>\n",
              "      <td>5</td>\n",
              "      <td>4</td>\n",
              "      <td>3</td>\n",
              "      <td>3</td>\n",
              "      <td>3</td>\n",
              "      <td>5</td>\n",
              "    </tr>\n",
              "    <tr>\n",
              "      <th>4</th>\n",
              "      <td>0</td>\n",
              "      <td>5</td>\n",
              "      <td>4</td>\n",
              "      <td>3</td>\n",
              "      <td>3</td>\n",
              "      <td>3</td>\n",
              "      <td>5</td>\n",
              "    </tr>\n",
              "    <tr>\n",
              "      <th>...</th>\n",
              "      <td>...</td>\n",
              "      <td>...</td>\n",
              "      <td>...</td>\n",
              "      <td>...</td>\n",
              "      <td>...</td>\n",
              "      <td>...</td>\n",
              "      <td>...</td>\n",
              "    </tr>\n",
              "    <tr>\n",
              "      <th>121</th>\n",
              "      <td>1</td>\n",
              "      <td>5</td>\n",
              "      <td>2</td>\n",
              "      <td>3</td>\n",
              "      <td>4</td>\n",
              "      <td>4</td>\n",
              "      <td>3</td>\n",
              "    </tr>\n",
              "    <tr>\n",
              "      <th>122</th>\n",
              "      <td>1</td>\n",
              "      <td>5</td>\n",
              "      <td>2</td>\n",
              "      <td>3</td>\n",
              "      <td>4</td>\n",
              "      <td>2</td>\n",
              "      <td>5</td>\n",
              "    </tr>\n",
              "    <tr>\n",
              "      <th>123</th>\n",
              "      <td>1</td>\n",
              "      <td>5</td>\n",
              "      <td>3</td>\n",
              "      <td>3</td>\n",
              "      <td>4</td>\n",
              "      <td>4</td>\n",
              "      <td>5</td>\n",
              "    </tr>\n",
              "    <tr>\n",
              "      <th>124</th>\n",
              "      <td>0</td>\n",
              "      <td>4</td>\n",
              "      <td>3</td>\n",
              "      <td>3</td>\n",
              "      <td>4</td>\n",
              "      <td>4</td>\n",
              "      <td>5</td>\n",
              "    </tr>\n",
              "    <tr>\n",
              "      <th>125</th>\n",
              "      <td>0</td>\n",
              "      <td>5</td>\n",
              "      <td>3</td>\n",
              "      <td>2</td>\n",
              "      <td>5</td>\n",
              "      <td>5</td>\n",
              "      <td>5</td>\n",
              "    </tr>\n",
              "  </tbody>\n",
              "</table>\n",
              "<p>126 rows × 7 columns</p>\n",
              "</div>"
            ],
            "text/plain": [
              "     Y  X1  X2  X3  X4  X5  X6\n",
              "0    0   3   3   3   4   2   4\n",
              "1    0   3   2   3   5   4   3\n",
              "2    1   5   3   3   3   3   5\n",
              "3    0   5   4   3   3   3   5\n",
              "4    0   5   4   3   3   3   5\n",
              "..  ..  ..  ..  ..  ..  ..  ..\n",
              "121  1   5   2   3   4   4   3\n",
              "122  1   5   2   3   4   2   5\n",
              "123  1   5   3   3   4   4   5\n",
              "124  0   4   3   3   4   4   5\n",
              "125  0   5   3   2   5   5   5\n",
              "\n",
              "[126 rows x 7 columns]"
            ]
          },
          "execution_count": 31,
          "metadata": {},
          "output_type": "execute_result"
        }
      ],
      "source": [
        "df\n"
      ]
    },
    {
      "cell_type": "code",
      "execution_count": null,
      "id": "8a03bf0c",
      "metadata": {
        "id": "8a03bf0c",
        "outputId": "fcfa6f3e-633d-4d21-e2b9-0e9189cc9f48"
      },
      "outputs": [
        {
          "name": "stdout",
          "output_type": "stream",
          "text": [
            "Requirement already satisfied: catboost in d:\\downloads\\anucleus\\lib\\site-packages (1.0.4)\n",
            "Requirement already satisfied: scipy in d:\\downloads\\anucleus\\lib\\site-packages (from catboost) (1.7.1)\n",
            "Requirement already satisfied: pandas>=0.24.0 in d:\\downloads\\anucleus\\lib\\site-packages (from catboost) (1.3.4)\n",
            "Requirement already satisfied: numpy>=1.16.0 in d:\\downloads\\anucleus\\lib\\site-packages (from catboost) (1.20.3)\n",
            "Requirement already satisfied: matplotlib in d:\\downloads\\anucleus\\lib\\site-packages (from catboost) (3.4.3)\n",
            "Requirement already satisfied: graphviz in d:\\downloads\\anucleus\\lib\\site-packages (from catboost) (0.19.1)\n",
            "Requirement already satisfied: plotly in d:\\downloads\\anucleus\\lib\\site-packages (from catboost) (5.6.0)\n",
            "Requirement already satisfied: six in d:\\downloads\\anucleus\\lib\\site-packages (from catboost) (1.16.0)\n",
            "Requirement already satisfied: python-dateutil>=2.7.3 in d:\\downloads\\anucleus\\lib\\site-packages (from pandas>=0.24.0->catboost) (2.8.2)\n",
            "Requirement already satisfied: pytz>=2017.3 in d:\\downloads\\anucleus\\lib\\site-packages (from pandas>=0.24.0->catboost) (2021.3)\n",
            "Requirement already satisfied: pillow>=6.2.0 in d:\\downloads\\anucleus\\lib\\site-packages (from matplotlib->catboost) (8.4.0)\n",
            "Requirement already satisfied: pyparsing>=2.2.1 in d:\\downloads\\anucleus\\lib\\site-packages (from matplotlib->catboost) (3.0.4)\n",
            "Requirement already satisfied: cycler>=0.10 in d:\\downloads\\anucleus\\lib\\site-packages (from matplotlib->catboost) (0.10.0)\n",
            "Requirement already satisfied: kiwisolver>=1.0.1 in d:\\downloads\\anucleus\\lib\\site-packages (from matplotlib->catboost) (1.3.1)\n",
            "Requirement already satisfied: tenacity>=6.2.0 in d:\\downloads\\anucleus\\lib\\site-packages (from plotly->catboost) (8.0.1)\n",
            "Note: you may need to restart the kernel to use updated packages.\n"
          ]
        }
      ],
      "source": [
        " pip install catboost"
      ]
    },
    {
      "cell_type": "code",
      "execution_count": null,
      "id": "7ed5d8fd",
      "metadata": {
        "id": "7ed5d8fd"
      },
      "outputs": [],
      "source": [
        "dataset = pd.read_csv (\"ACME-HappinessSurvey2020 (1).csv\")"
      ]
    },
    {
      "cell_type": "code",
      "execution_count": null,
      "id": "d256a9b8",
      "metadata": {
        "id": "d256a9b8",
        "outputId": "d8d375a1-ea1b-45f2-dea9-c42044a887e9"
      },
      "outputs": [
        {
          "data": {
            "text/html": [
              "<div>\n",
              "<style scoped>\n",
              "    .dataframe tbody tr th:only-of-type {\n",
              "        vertical-align: middle;\n",
              "    }\n",
              "\n",
              "    .dataframe tbody tr th {\n",
              "        vertical-align: top;\n",
              "    }\n",
              "\n",
              "    .dataframe thead th {\n",
              "        text-align: right;\n",
              "    }\n",
              "</style>\n",
              "<table border=\"1\" class=\"dataframe\">\n",
              "  <thead>\n",
              "    <tr style=\"text-align: right;\">\n",
              "      <th></th>\n",
              "      <th>Y</th>\n",
              "      <th>X1</th>\n",
              "      <th>X2</th>\n",
              "      <th>X3</th>\n",
              "      <th>X4</th>\n",
              "      <th>X5</th>\n",
              "      <th>X6</th>\n",
              "    </tr>\n",
              "  </thead>\n",
              "  <tbody>\n",
              "    <tr>\n",
              "      <th>0</th>\n",
              "      <td>0</td>\n",
              "      <td>3</td>\n",
              "      <td>3</td>\n",
              "      <td>3</td>\n",
              "      <td>4</td>\n",
              "      <td>2</td>\n",
              "      <td>4</td>\n",
              "    </tr>\n",
              "    <tr>\n",
              "      <th>1</th>\n",
              "      <td>0</td>\n",
              "      <td>3</td>\n",
              "      <td>2</td>\n",
              "      <td>3</td>\n",
              "      <td>5</td>\n",
              "      <td>4</td>\n",
              "      <td>3</td>\n",
              "    </tr>\n",
              "    <tr>\n",
              "      <th>2</th>\n",
              "      <td>1</td>\n",
              "      <td>5</td>\n",
              "      <td>3</td>\n",
              "      <td>3</td>\n",
              "      <td>3</td>\n",
              "      <td>3</td>\n",
              "      <td>5</td>\n",
              "    </tr>\n",
              "    <tr>\n",
              "      <th>3</th>\n",
              "      <td>0</td>\n",
              "      <td>5</td>\n",
              "      <td>4</td>\n",
              "      <td>3</td>\n",
              "      <td>3</td>\n",
              "      <td>3</td>\n",
              "      <td>5</td>\n",
              "    </tr>\n",
              "    <tr>\n",
              "      <th>4</th>\n",
              "      <td>0</td>\n",
              "      <td>5</td>\n",
              "      <td>4</td>\n",
              "      <td>3</td>\n",
              "      <td>3</td>\n",
              "      <td>3</td>\n",
              "      <td>5</td>\n",
              "    </tr>\n",
              "  </tbody>\n",
              "</table>\n",
              "</div>"
            ],
            "text/plain": [
              "   Y  X1  X2  X3  X4  X5  X6\n",
              "0  0   3   3   3   4   2   4\n",
              "1  0   3   2   3   5   4   3\n",
              "2  1   5   3   3   3   3   5\n",
              "3  0   5   4   3   3   3   5\n",
              "4  0   5   4   3   3   3   5"
            ]
          },
          "execution_count": 6,
          "metadata": {},
          "output_type": "execute_result"
        }
      ],
      "source": [
        "dataset.head()"
      ]
    },
    {
      "cell_type": "code",
      "execution_count": null,
      "id": "ac1b3527",
      "metadata": {
        "id": "ac1b3527",
        "outputId": "e0c0acfc-c3ea-4b69-eb39-e90f78b7a2da"
      },
      "outputs": [
        {
          "data": {
            "text/html": [
              "<div>\n",
              "<style scoped>\n",
              "    .dataframe tbody tr th:only-of-type {\n",
              "        vertical-align: middle;\n",
              "    }\n",
              "\n",
              "    .dataframe tbody tr th {\n",
              "        vertical-align: top;\n",
              "    }\n",
              "\n",
              "    .dataframe thead th {\n",
              "        text-align: right;\n",
              "    }\n",
              "</style>\n",
              "<table border=\"1\" class=\"dataframe\">\n",
              "  <thead>\n",
              "    <tr style=\"text-align: right;\">\n",
              "      <th></th>\n",
              "      <th>Y</th>\n",
              "      <th>X1</th>\n",
              "      <th>X2</th>\n",
              "      <th>X3</th>\n",
              "      <th>X4</th>\n",
              "      <th>X5</th>\n",
              "      <th>X6</th>\n",
              "    </tr>\n",
              "  </thead>\n",
              "  <tbody>\n",
              "    <tr>\n",
              "      <th>121</th>\n",
              "      <td>1</td>\n",
              "      <td>5</td>\n",
              "      <td>2</td>\n",
              "      <td>3</td>\n",
              "      <td>4</td>\n",
              "      <td>4</td>\n",
              "      <td>3</td>\n",
              "    </tr>\n",
              "    <tr>\n",
              "      <th>122</th>\n",
              "      <td>1</td>\n",
              "      <td>5</td>\n",
              "      <td>2</td>\n",
              "      <td>3</td>\n",
              "      <td>4</td>\n",
              "      <td>2</td>\n",
              "      <td>5</td>\n",
              "    </tr>\n",
              "    <tr>\n",
              "      <th>123</th>\n",
              "      <td>1</td>\n",
              "      <td>5</td>\n",
              "      <td>3</td>\n",
              "      <td>3</td>\n",
              "      <td>4</td>\n",
              "      <td>4</td>\n",
              "      <td>5</td>\n",
              "    </tr>\n",
              "    <tr>\n",
              "      <th>124</th>\n",
              "      <td>0</td>\n",
              "      <td>4</td>\n",
              "      <td>3</td>\n",
              "      <td>3</td>\n",
              "      <td>4</td>\n",
              "      <td>4</td>\n",
              "      <td>5</td>\n",
              "    </tr>\n",
              "    <tr>\n",
              "      <th>125</th>\n",
              "      <td>0</td>\n",
              "      <td>5</td>\n",
              "      <td>3</td>\n",
              "      <td>2</td>\n",
              "      <td>5</td>\n",
              "      <td>5</td>\n",
              "      <td>5</td>\n",
              "    </tr>\n",
              "  </tbody>\n",
              "</table>\n",
              "</div>"
            ],
            "text/plain": [
              "     Y  X1  X2  X3  X4  X5  X6\n",
              "121  1   5   2   3   4   4   3\n",
              "122  1   5   2   3   4   2   5\n",
              "123  1   5   3   3   4   4   5\n",
              "124  0   4   3   3   4   4   5\n",
              "125  0   5   3   2   5   5   5"
            ]
          },
          "execution_count": 7,
          "metadata": {},
          "output_type": "execute_result"
        }
      ],
      "source": [
        "dataset.tail()"
      ]
    },
    {
      "cell_type": "code",
      "execution_count": null,
      "id": "4a24274e",
      "metadata": {
        "id": "4a24274e"
      },
      "outputs": [],
      "source": [
        "X = dataset.drop(columns = 'Y')\n",
        "y = dataset['Y']\n"
      ]
    },
    {
      "cell_type": "code",
      "execution_count": null,
      "id": "044061a9",
      "metadata": {
        "id": "044061a9"
      },
      "outputs": [],
      "source": [
        "X_train, X_test, y_train, y_test = train_test_split(X, y, random_state = 42, stratify = y)"
      ]
    },
    {
      "cell_type": "code",
      "execution_count": null,
      "id": "4adeeff2",
      "metadata": {
        "id": "4adeeff2",
        "outputId": "a581f5bd-9d05-4388-c671-8a70012e58c9"
      },
      "outputs": [
        {
          "name": "stdout",
          "output_type": "stream",
          "text": [
            "[[-7.53336811e+00 -7.90869771e-01]\n",
            " [ 6.24910663e+00  6.51695127e+00]\n",
            " [-5.82476269e+00 -4.05558240e-01]\n",
            " [ 8.70620856e+00 -8.67126879e+00]\n",
            " [ 7.51489879e+00 -9.19926037e+00]\n",
            " [ 8.28318607e+00 -9.60914819e+00]\n",
            " [ 7.64218553e+00 -7.47662680e+00]\n",
            " [-8.49553642e+00  1.22081947e+00]\n",
            " [ 8.82619305e+00 -9.36110203e+00]\n",
            " [-8.36013580e+00 -6.11762261e-01]\n",
            " [ 3.62888017e+00  6.65447908e+00]\n",
            " [ 6.69497894e+00 -9.00390747e+00]\n",
            " [-9.73298668e+00 -3.57284098e+00]\n",
            " [ 6.96762433e+00  6.44355401e+00]\n",
            " [ 6.23755376e+00  4.92884173e+00]\n",
            " [-9.05022727e+00 -1.55163833e+00]\n",
            " [ 6.15358215e+00  6.19343881e+00]\n",
            " [-6.92191150e+00 -2.73639708e+00]\n",
            " [-6.37772237e+00 -1.87714947e+00]\n",
            " [-9.31686786e+00 -1.50767219e+00]\n",
            " [ 4.54396056e+00  5.33035356e+00]\n",
            " [ 2.99622928e+00  6.26752982e+00]\n",
            " [-1.00095445e+01  2.47989891e-01]\n",
            " [ 7.54390359e+00 -9.34927235e+00]\n",
            " [-9.61768896e+00 -4.61365162e-01]\n",
            " [ 4.39386812e+00  6.05261501e+00]\n",
            " [ 4.68929528e+00  7.51899119e+00]\n",
            " [ 5.73462884e+00  5.71429956e+00]\n",
            " [ 5.44409611e+00  7.25839586e+00]\n",
            " [ 4.96523901e+00  6.67181799e+00]\n",
            " [ 3.83281470e+00  6.81917622e+00]\n",
            " [-9.81008125e+00 -1.43016279e+00]\n",
            " [-1.00622676e+01 -1.03380496e+00]\n",
            " [ 8.30328881e+00 -1.01111707e+01]\n",
            " [-8.75845770e+00  7.43997869e-02]\n",
            " [ 1.02888920e+01 -9.34723927e+00]\n",
            " [ 1.02611827e+01 -8.96830026e+00]\n",
            " [ 8.80221279e+00 -8.61033993e+00]\n",
            " [-9.96160680e+00  7.62555272e-01]\n",
            " [ 7.66788400e+00 -8.70419861e+00]\n",
            " [-1.00258672e+01 -8.79696711e-01]\n",
            " [-1.07840644e+01 -8.54221870e-01]\n",
            " [-1.02441682e+01 -7.32800759e-01]\n",
            " [ 5.23539053e+00  7.22039919e+00]\n",
            " [ 4.96812127e+00  4.27734349e+00]\n",
            " [ 9.44305912e+00 -8.29830160e+00]\n",
            " [ 7.91334480e+00 -8.38176853e+00]\n",
            " [ 8.91835298e+00 -1.01206762e+01]\n",
            " [ 4.11800972e+00  5.36293848e+00]\n",
            " [ 7.97551747e+00 -9.57251350e+00]\n",
            " [-8.86932694e+00 -5.38767080e-01]\n",
            " [-9.27423740e+00  5.74324633e-02]\n",
            " [ 7.88686464e+00 -1.02142835e+01]\n",
            " [-8.71779935e+00 -4.72846225e-01]\n",
            " [ 6.32863008e+00  7.32002956e+00]\n",
            " [-8.81492223e+00 -1.55071456e+00]\n",
            " [-9.84866598e+00 -1.66873542e+00]\n",
            " [-8.33723513e+00  3.22306868e-01]\n",
            " [ 4.79871683e+00  7.06067143e+00]\n",
            " [ 5.35267215e+00  4.11731500e+00]\n",
            " [ 5.30165936e+00  6.55055740e+00]\n",
            " [ 8.60181120e+00 -8.51559016e+00]\n",
            " [ 8.95282930e+00 -7.07665406e+00]\n",
            " [ 8.16403555e+00 -9.02596215e+00]\n",
            " [ 8.85296839e+00 -8.29002401e+00]\n",
            " [ 4.72183431e+00  7.88054100e+00]\n",
            " [ 3.03285984e+00  6.19377007e+00]\n",
            " [ 6.22369776e+00  6.81290307e+00]\n",
            " [-9.85097066e+00 -1.99194151e+00]\n",
            " [ 1.05635364e+01 -1.08523508e+01]\n",
            " [-8.49922268e+00 -2.19429259e-01]\n",
            " [-8.82517643e+00  3.84727139e-02]\n",
            " [ 9.02624890e+00 -7.87848096e+00]\n",
            " [ 7.70846403e+00 -7.40776361e+00]\n",
            " [ 8.37773724e+00 -8.03531020e+00]\n",
            " [-7.84209988e+00 -1.66639014e+00]\n",
            " [ 3.47838290e+00  6.27401767e+00]\n",
            " [ 4.73275986e+00  5.27211135e+00]\n",
            " [ 8.25674850e+00 -7.14180516e+00]\n",
            " [ 8.10446459e+00 -8.49956492e+00]\n",
            " [ 8.66975610e+00 -7.29016165e+00]\n",
            " [-7.77115402e+00 -1.46018184e-01]\n",
            " [ 8.04663588e+00 -8.67447707e+00]\n",
            " [ 5.82393331e+00  3.94524914e+00]\n",
            " [ 4.15163867e+00  5.33280030e+00]\n",
            " [ 9.36615322e+00 -9.18700382e+00]\n",
            " [ 8.23107971e+00 -8.06821276e+00]\n",
            " [ 4.76061199e+00  7.47667335e+00]\n",
            " [ 7.47166133e+00 -8.91806149e+00]\n",
            " [ 4.45506258e+00  6.46931165e+00]\n",
            " [ 4.55229576e+00  6.94530173e+00]\n",
            " [ 8.79233191e+00 -7.74113293e+00]\n",
            " [ 4.62343100e+00  6.06016914e+00]\n",
            " [ 9.22950765e+00 -9.61219938e+00]\n",
            " [ 8.09509043e+00 -1.04040045e+01]\n",
            " [-8.92219112e+00 -1.97649951e-01]\n",
            " [ 9.62743329e+00 -9.13685680e+00]\n",
            " [-9.43599070e+00 -1.99349402e+00]\n",
            " [ 8.29343955e+00 -8.59683880e+00]\n",
            " [ 4.93070725e+00  4.98809961e+00]\n",
            " [-9.35035618e+00 -4.86905860e-03]\n",
            " [ 3.26656610e+00  5.58985447e+00]\n",
            " [-9.63602223e+00 -1.54587064e+00]\n",
            " [-1.02618394e+01 -1.73516613e-01]\n",
            " [ 3.23039643e+00  4.63182504e+00]\n",
            " [ 4.87400790e+00  8.40930252e+00]\n",
            " [ 8.80570889e+00 -6.93383440e+00]\n",
            " [ 4.00481487e+00  6.53607384e+00]\n",
            " [ 4.61687081e+00  4.41680860e+00]\n",
            " [-8.51375085e+00 -9.03750300e-01]\n",
            " [-9.30592097e+00 -1.13271772e+00]\n",
            " [ 3.82720127e+00  7.01674003e+00]\n",
            " [ 7.42195480e+00 -8.76292980e+00]\n",
            " [-7.75037219e+00 -3.07435653e+00]\n",
            " [-9.78599598e+00 -1.28354417e+00]\n",
            " [ 8.42553313e+00 -7.91288440e+00]\n",
            " [-8.34428243e+00 -1.22208784e+00]\n",
            " [ 8.85569964e+00 -8.74068626e+00]\n",
            " [ 5.52898295e+00  6.00229005e+00]\n",
            " [ 6.17579422e+00  6.02699556e+00]\n",
            " [-8.69460307e+00 -3.49297107e+00]\n",
            " [ 8.12768529e+00 -8.16707368e+00]\n",
            " [ 6.30125697e+00  4.80869874e+00]\n",
            " [-9.54085637e+00 -1.05455525e+00]\n",
            " [ 4.79518141e+00  5.09571352e+00]\n",
            " [-8.93753578e+00 -1.45139976e+00]]\n"
          ]
        }
      ],
      "source": [
        "print(X)"
      ]
    },
    {
      "cell_type": "code",
      "execution_count": null,
      "id": "5c827172",
      "metadata": {
        "id": "5c827172",
        "outputId": "ca9f24de-e7f1-4b8a-8928-bc6f3e3fc941"
      },
      "outputs": [
        {
          "name": "stdout",
          "output_type": "stream",
          "text": [
            "[0 2 0 1 1 1 1 0 1 0 2 1 0 2 2 0 2 0 0 0 2 2 0 1 0 2 2 2 2 2 2 0 0 1 0 1 1\n",
            " 1 0 1 0 0 0 2 2 1 1 1 2 1 0 0 1 0 2 0 0 0 2 2 2 1 1 1 1 2 2 2 0 1 0 0 1 1\n",
            " 1 0 2 2 1 1 1 0 1 2 2 1 1 2 1 2 2 1 2 1 1 0 1 0 1 2 0 2 0 0 2 2 1 2 2 0 0\n",
            " 2 1 0 0 1 0 1 2 2 0 1 2 0 2 0]\n"
          ]
        }
      ],
      "source": [
        "print(y)"
      ]
    },
    {
      "cell_type": "code",
      "execution_count": null,
      "id": "8cfb3dff",
      "metadata": {
        "id": "8cfb3dff",
        "outputId": "61f09756-be67-4b45-c90f-d91e08d77072"
      },
      "outputs": [
        {
          "name": "stdout",
          "output_type": "stream",
          "text": [
            "[[ 6.96762433e+00  6.44355401e+00]\n",
            " [ 4.62343100e+00  6.06016914e+00]\n",
            " [ 5.44409611e+00  7.25839586e+00]\n",
            " [ 6.69497894e+00 -9.00390747e+00]\n",
            " [-8.75845770e+00  7.43997869e-02]\n",
            " [ 8.85296839e+00 -8.29002401e+00]\n",
            " [-1.00258672e+01 -8.79696711e-01]\n",
            " [ 3.83281470e+00  6.81917622e+00]\n",
            " [ 4.79518141e+00  5.09571352e+00]\n",
            " [ 7.97551747e+00 -9.57251350e+00]\n",
            " [ 6.15358215e+00  6.19343881e+00]\n",
            " [-8.81492223e+00 -1.55071456e+00]\n",
            " [ 8.79233191e+00 -7.74113293e+00]\n",
            " [-8.36013580e+00 -6.11762261e-01]\n",
            " [ 4.11800972e+00  5.36293848e+00]\n",
            " [ 6.17579422e+00  6.02699556e+00]\n",
            " [-9.43599070e+00 -1.99349402e+00]\n",
            " [-1.00095445e+01  2.47989891e-01]\n",
            " [ 7.66788400e+00 -8.70419861e+00]\n",
            " [ 5.23539053e+00  7.22039919e+00]\n",
            " [-8.82517643e+00  3.84727139e-02]\n",
            " [ 9.02624890e+00 -7.87848096e+00]\n",
            " [ 5.30165936e+00  6.55055740e+00]\n",
            " [-9.05022727e+00 -1.55163833e+00]\n",
            " [ 8.70620856e+00 -8.67126879e+00]\n",
            " [ 1.05635364e+01 -1.08523508e+01]\n",
            " [ 3.26656610e+00  5.58985447e+00]\n",
            " [-9.54085637e+00 -1.05455525e+00]\n",
            " [ 9.62743329e+00 -9.13685680e+00]\n",
            " [-9.85097066e+00 -1.99194151e+00]\n",
            " [-9.73298668e+00 -3.57284098e+00]\n",
            " [ 8.29343955e+00 -8.59683880e+00]\n",
            " [-7.84209988e+00 -1.66639014e+00]\n",
            " [ 8.04663588e+00 -8.67447707e+00]\n",
            " [ 4.76061199e+00  7.47667335e+00]\n",
            " [ 3.82720127e+00  7.01674003e+00]\n",
            " [ 4.00481487e+00  6.53607384e+00]\n",
            " [-8.92219112e+00 -1.97649951e-01]\n",
            " [ 4.72183431e+00  7.88054100e+00]\n",
            " [ 8.95282930e+00 -7.07665406e+00]\n",
            " [ 3.23039643e+00  4.63182504e+00]\n",
            " [ 7.70846403e+00 -7.40776361e+00]\n",
            " [-1.00622676e+01 -1.03380496e+00]\n",
            " [ 4.55229576e+00  6.94530173e+00]\n",
            " [ 4.15163867e+00  5.33280030e+00]\n",
            " [ 5.35267215e+00  4.11731500e+00]\n",
            " [ 8.82619305e+00 -9.36110203e+00]\n",
            " [ 6.22369776e+00  6.81290307e+00]\n",
            " [ 5.82393331e+00  3.94524914e+00]\n",
            " [ 6.32863008e+00  7.32002956e+00]\n",
            " [ 8.23107971e+00 -8.06821276e+00]\n",
            " [ 8.80221279e+00 -8.61033993e+00]\n",
            " [-8.93753578e+00 -1.45139976e+00]\n",
            " [ 8.12768529e+00 -8.16707368e+00]\n",
            " [-6.92191150e+00 -2.73639708e+00]\n",
            " [-8.34428243e+00 -1.22208784e+00]\n",
            " [-1.07840644e+01 -8.54221870e-01]\n",
            " [ 4.54396056e+00  5.33035356e+00]\n",
            " [ 9.22950765e+00 -9.61219938e+00]\n",
            " [ 7.88686464e+00 -1.02142835e+01]\n",
            " [ 4.79871683e+00  7.06067143e+00]\n",
            " [-8.69460307e+00 -3.49297107e+00]\n",
            " [ 1.02611827e+01 -8.96830026e+00]\n",
            " [ 8.09509043e+00 -1.04040045e+01]\n",
            " [ 8.42553313e+00 -7.91288440e+00]\n",
            " [ 8.80570889e+00 -6.93383440e+00]\n",
            " [ 4.61687081e+00  4.41680860e+00]\n",
            " [ 3.03285984e+00  6.19377007e+00]\n",
            " [-9.63602223e+00 -1.54587064e+00]\n",
            " [ 8.60181120e+00 -8.51559016e+00]\n",
            " [ 6.23755376e+00  4.92884173e+00]\n",
            " [-8.49553642e+00  1.22081947e+00]\n",
            " [-9.35035618e+00 -4.86905860e-03]\n",
            " [ 7.47166133e+00 -8.91806149e+00]\n",
            " [-5.82476269e+00 -4.05558240e-01]\n",
            " [ 7.42195480e+00 -8.76292980e+00]\n",
            " [ 5.73462884e+00  5.71429956e+00]\n",
            " [-7.53336811e+00 -7.90869771e-01]\n",
            " [-7.75037219e+00 -3.07435653e+00]\n",
            " [ 8.85569964e+00 -8.74068626e+00]\n",
            " [ 8.28318607e+00 -9.60914819e+00]\n",
            " [ 8.10446459e+00 -8.49956492e+00]\n",
            " [ 4.93070725e+00  4.98809961e+00]\n",
            " [ 9.44305912e+00 -8.29830160e+00]\n",
            " [-1.02441682e+01 -7.32800759e-01]\n",
            " [ 4.96523901e+00  6.67181799e+00]\n",
            " [-9.31686786e+00 -1.50767219e+00]\n",
            " [-9.81008125e+00 -1.43016279e+00]\n",
            " [-9.27423740e+00  5.74324633e-02]\n",
            " [-8.51375085e+00 -9.03750300e-01]\n",
            " [-9.78599598e+00 -1.28354417e+00]\n",
            " [-8.49922268e+00 -2.19429259e-01]\n",
            " [ 3.62888017e+00  6.65447908e+00]\n",
            " [ 9.36615322e+00 -9.18700382e+00]]\n"
          ]
        }
      ],
      "source": [
        "print(X_train)"
      ]
    },
    {
      "cell_type": "code",
      "execution_count": null,
      "id": "63542090",
      "metadata": {
        "id": "63542090",
        "outputId": "9c241a9d-dc9c-4c07-ac5e-3795ba59e278"
      },
      "outputs": [
        {
          "name": "stdout",
          "output_type": "stream",
          "text": [
            "[[  4.45506258   6.46931165]\n",
            " [ -9.84866598  -1.66873542]\n",
            " [  6.30125697   4.80869874]\n",
            " [  4.39386812   6.05261501]\n",
            " [  8.30328881 -10.11117065]\n",
            " [  4.68929528   7.51899119]\n",
            " [  8.6697561   -7.29016165]\n",
            " [  7.54390359  -9.34927235]\n",
            " [ -7.77115402  -0.14601818]\n",
            " [  8.2567485   -7.14180516]\n",
            " [  3.4783829    6.27401767]\n",
            " [  8.16403555  -9.02596215]\n",
            " [ -8.33723513   0.32230687]\n",
            " [ 10.28889204  -9.34723927]\n",
            " [ -6.37772237  -1.87714947]\n",
            " [  4.73275986   5.27211135]\n",
            " [  2.99622928   6.26752982]\n",
            " [ -8.71779935  -0.47284623]\n",
            " [  7.64218553  -7.4766268 ]\n",
            " [  5.52898295   6.00229005]\n",
            " [  7.9133448   -8.38176853]\n",
            " [ -9.61768896  -0.46136516]\n",
            " [  8.37773724  -8.0353102 ]\n",
            " [ -9.30592097  -1.13271772]\n",
            " [  6.24910663   6.51695127]\n",
            " [ -8.86932694  -0.53876708]\n",
            " [ -9.9616068    0.76255527]\n",
            " [-10.26183935  -0.17351661]\n",
            " [  4.96812127   4.27734349]\n",
            " [  7.51489879  -9.19926037]\n",
            " [  8.91835298 -10.12067624]\n",
            " [  4.8740079    8.40930252]]\n"
          ]
        }
      ],
      "source": [
        "print(X_test)"
      ]
    },
    {
      "cell_type": "code",
      "execution_count": null,
      "id": "c149c30f",
      "metadata": {
        "id": "c149c30f",
        "outputId": "2e4381c8-e2af-4a1d-f8e7-c550e2c2f1bb"
      },
      "outputs": [
        {
          "name": "stdout",
          "output_type": "stream",
          "text": [
            "[2 2 2 1 0 1 0 2 2 1 2 0 1 0 2 2 0 0 1 2 0 1 2 0 1 1 2 0 1 0 0 1 0 1 2 2 2\n",
            " 0 2 1 2 1 0 2 2 2 1 2 2 2 1 1 0 1 0 0 0 2 1 1 2 0 1 1 1 1 2 2 0 1 2 0 0 1\n",
            " 0 1 2 0 0 1 1 1 2 1 0 2 0 0 0 0 0 0 2 1]\n"
          ]
        }
      ],
      "source": [
        "print(y_train)"
      ]
    },
    {
      "cell_type": "code",
      "execution_count": null,
      "id": "2a5bd6d7",
      "metadata": {
        "id": "2a5bd6d7",
        "outputId": "5e1ff532-3140-49a1-bc99-ca8dc06993c4"
      },
      "outputs": [
        {
          "name": "stdout",
          "output_type": "stream",
          "text": [
            "[2 0 2 2 1 2 1 1 0 1 2 1 0 1 0 2 2 0 1 2 1 0 1 0 2 0 0 0 2 1 1 2]\n"
          ]
        }
      ],
      "source": [
        "print(y_test)"
      ]
    },
    {
      "cell_type": "code",
      "execution_count": null,
      "id": "94d1654b",
      "metadata": {
        "id": "94d1654b"
      },
      "outputs": [],
      "source": [
        "from sklearn.datasets import make_blobs"
      ]
    },
    {
      "cell_type": "code",
      "execution_count": null,
      "id": "556d1d29",
      "metadata": {
        "id": "556d1d29"
      },
      "outputs": [],
      "source": [
        "from sklearn.model_selection import train_test_split"
      ]
    },
    {
      "cell_type": "code",
      "execution_count": null,
      "id": "05da5f64",
      "metadata": {
        "id": "05da5f64"
      },
      "outputs": [],
      "source": [
        "X, y = make_blobs(n_samples=126)"
      ]
    },
    {
      "cell_type": "code",
      "execution_count": null,
      "id": "0cdb9947",
      "metadata": {
        "id": "0cdb9947",
        "outputId": "1992d01f-ea3a-4754-96c9-20f3a62c320e"
      },
      "outputs": [
        {
          "name": "stdout",
          "output_type": "stream",
          "text": [
            "(94, 2) (32, 2) (94,) (32,)\n"
          ]
        }
      ],
      "source": [
        "X_train, X_test, y_train, y_test = train_test_split(X, y, test_size=0.25)\n",
        "print(X_train.shape, X_test.shape, y_train.shape, y_test.shape)"
      ]
    },
    {
      "cell_type": "code",
      "execution_count": null,
      "id": "43ada3d9",
      "metadata": {
        "id": "43ada3d9"
      },
      "outputs": [],
      "source": [
        "X_train, X_test, y_train, y_test = train_test_split(X, y, train_size=0.75)"
      ]
    },
    {
      "cell_type": "code",
      "execution_count": null,
      "id": "a9d6a8b6",
      "metadata": {
        "id": "a9d6a8b6"
      },
      "outputs": [],
      "source": [
        "X_train, X_test, y_train, y_test = train_test_split(X, y, test_size=0.25, random_state=1)\n"
      ]
    },
    {
      "cell_type": "code",
      "execution_count": null,
      "id": "9f20b2f8",
      "metadata": {
        "id": "9f20b2f8"
      },
      "outputs": [],
      "source": [
        ""
      ]
    },
    {
      "cell_type": "code",
      "execution_count": null,
      "id": "cdaf05dc",
      "metadata": {
        "id": "cdaf05dc",
        "outputId": "02561ee5-12b6-4355-a428-b912253828b6"
      },
      "outputs": [
        {
          "data": {
            "text/html": [
              "<div>\n",
              "<style scoped>\n",
              "    .dataframe tbody tr th:only-of-type {\n",
              "        vertical-align: middle;\n",
              "    }\n",
              "\n",
              "    .dataframe tbody tr th {\n",
              "        vertical-align: top;\n",
              "    }\n",
              "\n",
              "    .dataframe thead th {\n",
              "        text-align: right;\n",
              "    }\n",
              "</style>\n",
              "<table border=\"1\" class=\"dataframe\">\n",
              "  <thead>\n",
              "    <tr style=\"text-align: right;\">\n",
              "      <th></th>\n",
              "      <th>Y</th>\n",
              "      <th>X1</th>\n",
              "      <th>X2</th>\n",
              "      <th>X3</th>\n",
              "      <th>X4</th>\n",
              "      <th>X5</th>\n",
              "      <th>X6</th>\n",
              "    </tr>\n",
              "  </thead>\n",
              "  <tbody>\n",
              "    <tr>\n",
              "      <th>0</th>\n",
              "      <td>0</td>\n",
              "      <td>3</td>\n",
              "      <td>3</td>\n",
              "      <td>3</td>\n",
              "      <td>4</td>\n",
              "      <td>2</td>\n",
              "      <td>4</td>\n",
              "    </tr>\n",
              "    <tr>\n",
              "      <th>1</th>\n",
              "      <td>0</td>\n",
              "      <td>3</td>\n",
              "      <td>2</td>\n",
              "      <td>3</td>\n",
              "      <td>5</td>\n",
              "      <td>4</td>\n",
              "      <td>3</td>\n",
              "    </tr>\n",
              "    <tr>\n",
              "      <th>2</th>\n",
              "      <td>1</td>\n",
              "      <td>5</td>\n",
              "      <td>3</td>\n",
              "      <td>3</td>\n",
              "      <td>3</td>\n",
              "      <td>3</td>\n",
              "      <td>5</td>\n",
              "    </tr>\n",
              "    <tr>\n",
              "      <th>3</th>\n",
              "      <td>0</td>\n",
              "      <td>5</td>\n",
              "      <td>4</td>\n",
              "      <td>3</td>\n",
              "      <td>3</td>\n",
              "      <td>3</td>\n",
              "      <td>5</td>\n",
              "    </tr>\n",
              "    <tr>\n",
              "      <th>4</th>\n",
              "      <td>0</td>\n",
              "      <td>5</td>\n",
              "      <td>4</td>\n",
              "      <td>3</td>\n",
              "      <td>3</td>\n",
              "      <td>3</td>\n",
              "      <td>5</td>\n",
              "    </tr>\n",
              "  </tbody>\n",
              "</table>\n",
              "</div>"
            ],
            "text/plain": [
              "   Y  X1  X2  X3  X4  X5  X6\n",
              "0  0   3   3   3   4   2   4\n",
              "1  0   3   2   3   5   4   3\n",
              "2  1   5   3   3   3   3   5\n",
              "3  0   5   4   3   3   3   5\n",
              "4  0   5   4   3   3   3   5"
            ]
          },
          "execution_count": 62,
          "metadata": {},
          "output_type": "execute_result"
        }
      ],
      "source": [
        "df = pd.read_csv(\"ACME-HappinessSurvey2020 (1).csv\")\n",
        "df.head()"
      ]
    },
    {
      "cell_type": "code",
      "execution_count": null,
      "id": "d2d72356",
      "metadata": {
        "id": "d2d72356",
        "outputId": "5e30542f-bd42-406e-da97-7898c77b6507"
      },
      "outputs": [
        {
          "name": "stdout",
          "output_type": "stream",
          "text": [
            "(126, 7)\n"
          ]
        }
      ],
      "source": [
        "print(df.shape)\n"
      ]
    },
    {
      "cell_type": "code",
      "execution_count": null,
      "id": "007493ef",
      "metadata": {
        "id": "007493ef",
        "outputId": "1355da0b-b818-4a08-a1c5-5f96ded4f750"
      },
      "outputs": [
        {
          "name": "stdout",
          "output_type": "stream",
          "text": [
            "Index(['Y', 'X1', 'X2', 'X3', 'X4', 'X5', 'X6'], dtype='object')\n"
          ]
        }
      ],
      "source": [
        "print(df.columns)"
      ]
    },
    {
      "cell_type": "code",
      "execution_count": null,
      "id": "7167ea5e",
      "metadata": {
        "id": "7167ea5e",
        "outputId": "4b6d9315-3ae2-4b8f-ac05-3e3b00bcb9c7"
      },
      "outputs": [
        {
          "name": "stdout",
          "output_type": "stream",
          "text": [
            "<class 'pandas.core.frame.DataFrame'>\n",
            "RangeIndex: 126 entries, 0 to 125\n",
            "Data columns (total 7 columns):\n",
            " #   Column  Non-Null Count  Dtype\n",
            "---  ------  --------------  -----\n",
            " 0   Y       126 non-null    int64\n",
            " 1   X1      126 non-null    int64\n",
            " 2   X2      126 non-null    int64\n",
            " 3   X3      126 non-null    int64\n",
            " 4   X4      126 non-null    int64\n",
            " 5   X5      126 non-null    int64\n",
            " 6   X6      126 non-null    int64\n",
            "dtypes: int64(7)\n",
            "memory usage: 7.0 KB\n",
            "None\n"
          ]
        }
      ],
      "source": [
        "print(df.info())"
      ]
    },
    {
      "cell_type": "code",
      "execution_count": null,
      "id": "1f03dd50",
      "metadata": {
        "id": "1f03dd50",
        "outputId": "24c14299-23a3-4702-9441-f3df982bb07f"
      },
      "outputs": [
        {
          "data": {
            "text/html": [
              "<div>\n",
              "<style scoped>\n",
              "    .dataframe tbody tr th:only-of-type {\n",
              "        vertical-align: middle;\n",
              "    }\n",
              "\n",
              "    .dataframe tbody tr th {\n",
              "        vertical-align: top;\n",
              "    }\n",
              "\n",
              "    .dataframe thead th {\n",
              "        text-align: right;\n",
              "    }\n",
              "</style>\n",
              "<table border=\"1\" class=\"dataframe\">\n",
              "  <thead>\n",
              "    <tr style=\"text-align: right;\">\n",
              "      <th></th>\n",
              "      <th>Y</th>\n",
              "      <th>X1</th>\n",
              "      <th>X2</th>\n",
              "      <th>X3</th>\n",
              "      <th>X4</th>\n",
              "      <th>X5</th>\n",
              "      <th>X6</th>\n",
              "    </tr>\n",
              "  </thead>\n",
              "  <tbody>\n",
              "    <tr>\n",
              "      <th>count</th>\n",
              "      <td>126.000000</td>\n",
              "      <td>126.000000</td>\n",
              "      <td>126.000000</td>\n",
              "      <td>126.000000</td>\n",
              "      <td>126.000000</td>\n",
              "      <td>126.000000</td>\n",
              "      <td>126.000000</td>\n",
              "    </tr>\n",
              "    <tr>\n",
              "      <th>mean</th>\n",
              "      <td>0.547619</td>\n",
              "      <td>4.333333</td>\n",
              "      <td>2.531746</td>\n",
              "      <td>3.309524</td>\n",
              "      <td>3.746032</td>\n",
              "      <td>3.650794</td>\n",
              "      <td>4.253968</td>\n",
              "    </tr>\n",
              "    <tr>\n",
              "      <th>std</th>\n",
              "      <td>0.499714</td>\n",
              "      <td>0.800000</td>\n",
              "      <td>1.114892</td>\n",
              "      <td>1.023440</td>\n",
              "      <td>0.875776</td>\n",
              "      <td>1.147641</td>\n",
              "      <td>0.809311</td>\n",
              "    </tr>\n",
              "    <tr>\n",
              "      <th>min</th>\n",
              "      <td>0.000000</td>\n",
              "      <td>1.000000</td>\n",
              "      <td>1.000000</td>\n",
              "      <td>1.000000</td>\n",
              "      <td>1.000000</td>\n",
              "      <td>1.000000</td>\n",
              "      <td>1.000000</td>\n",
              "    </tr>\n",
              "    <tr>\n",
              "      <th>25%</th>\n",
              "      <td>0.000000</td>\n",
              "      <td>4.000000</td>\n",
              "      <td>2.000000</td>\n",
              "      <td>3.000000</td>\n",
              "      <td>3.000000</td>\n",
              "      <td>3.000000</td>\n",
              "      <td>4.000000</td>\n",
              "    </tr>\n",
              "    <tr>\n",
              "      <th>50%</th>\n",
              "      <td>1.000000</td>\n",
              "      <td>5.000000</td>\n",
              "      <td>3.000000</td>\n",
              "      <td>3.000000</td>\n",
              "      <td>4.000000</td>\n",
              "      <td>4.000000</td>\n",
              "      <td>4.000000</td>\n",
              "    </tr>\n",
              "    <tr>\n",
              "      <th>75%</th>\n",
              "      <td>1.000000</td>\n",
              "      <td>5.000000</td>\n",
              "      <td>3.000000</td>\n",
              "      <td>4.000000</td>\n",
              "      <td>4.000000</td>\n",
              "      <td>4.000000</td>\n",
              "      <td>5.000000</td>\n",
              "    </tr>\n",
              "    <tr>\n",
              "      <th>max</th>\n",
              "      <td>1.000000</td>\n",
              "      <td>5.000000</td>\n",
              "      <td>5.000000</td>\n",
              "      <td>5.000000</td>\n",
              "      <td>5.000000</td>\n",
              "      <td>5.000000</td>\n",
              "      <td>5.000000</td>\n",
              "    </tr>\n",
              "  </tbody>\n",
              "</table>\n",
              "</div>"
            ],
            "text/plain": [
              "                Y          X1          X2          X3          X4          X5  \\\n",
              "count  126.000000  126.000000  126.000000  126.000000  126.000000  126.000000   \n",
              "mean     0.547619    4.333333    2.531746    3.309524    3.746032    3.650794   \n",
              "std      0.499714    0.800000    1.114892    1.023440    0.875776    1.147641   \n",
              "min      0.000000    1.000000    1.000000    1.000000    1.000000    1.000000   \n",
              "25%      0.000000    4.000000    2.000000    3.000000    3.000000    3.000000   \n",
              "50%      1.000000    5.000000    3.000000    3.000000    4.000000    4.000000   \n",
              "75%      1.000000    5.000000    3.000000    4.000000    4.000000    4.000000   \n",
              "max      1.000000    5.000000    5.000000    5.000000    5.000000    5.000000   \n",
              "\n",
              "               X6  \n",
              "count  126.000000  \n",
              "mean     4.253968  \n",
              "std      0.809311  \n",
              "min      1.000000  \n",
              "25%      4.000000  \n",
              "50%      4.000000  \n",
              "75%      5.000000  \n",
              "max      5.000000  "
            ]
          },
          "execution_count": 66,
          "metadata": {},
          "output_type": "execute_result"
        }
      ],
      "source": [
        "df.describe()"
      ]
    },
    {
      "cell_type": "code",
      "execution_count": null,
      "id": "eeee12f4",
      "metadata": {
        "id": "eeee12f4",
        "outputId": "e27de6c7-008b-414b-af90-1f55727978c0"
      },
      "outputs": [
        {
          "data": {
            "text/html": [
              "<div>\n",
              "<style scoped>\n",
              "    .dataframe tbody tr th:only-of-type {\n",
              "        vertical-align: middle;\n",
              "    }\n",
              "\n",
              "    .dataframe tbody tr th {\n",
              "        vertical-align: top;\n",
              "    }\n",
              "\n",
              "    .dataframe thead th {\n",
              "        text-align: right;\n",
              "    }\n",
              "</style>\n",
              "<table border=\"1\" class=\"dataframe\">\n",
              "  <thead>\n",
              "    <tr style=\"text-align: right;\">\n",
              "      <th></th>\n",
              "      <th>Y</th>\n",
              "      <th>X1</th>\n",
              "      <th>X2</th>\n",
              "      <th>X3</th>\n",
              "      <th>X4</th>\n",
              "      <th>X5</th>\n",
              "      <th>X6</th>\n",
              "    </tr>\n",
              "  </thead>\n",
              "  <tbody>\n",
              "    <tr>\n",
              "      <th>63</th>\n",
              "      <td>0</td>\n",
              "      <td>5</td>\n",
              "      <td>5</td>\n",
              "      <td>5</td>\n",
              "      <td>2</td>\n",
              "      <td>5</td>\n",
              "      <td>5</td>\n",
              "    </tr>\n",
              "    <tr>\n",
              "      <th>68</th>\n",
              "      <td>1</td>\n",
              "      <td>5</td>\n",
              "      <td>1</td>\n",
              "      <td>5</td>\n",
              "      <td>5</td>\n",
              "      <td>5</td>\n",
              "      <td>5</td>\n",
              "    </tr>\n",
              "    <tr>\n",
              "      <th>86</th>\n",
              "      <td>1</td>\n",
              "      <td>5</td>\n",
              "      <td>3</td>\n",
              "      <td>3</td>\n",
              "      <td>3</td>\n",
              "      <td>5</td>\n",
              "      <td>5</td>\n",
              "    </tr>\n",
              "    <tr>\n",
              "      <th>85</th>\n",
              "      <td>1</td>\n",
              "      <td>5</td>\n",
              "      <td>2</td>\n",
              "      <td>3</td>\n",
              "      <td>4</td>\n",
              "      <td>4</td>\n",
              "      <td>5</td>\n",
              "    </tr>\n",
              "    <tr>\n",
              "      <th>83</th>\n",
              "      <td>1</td>\n",
              "      <td>5</td>\n",
              "      <td>3</td>\n",
              "      <td>2</td>\n",
              "      <td>4</td>\n",
              "      <td>4</td>\n",
              "      <td>4</td>\n",
              "    </tr>\n",
              "  </tbody>\n",
              "</table>\n",
              "</div>"
            ],
            "text/plain": [
              "    Y  X1  X2  X3  X4  X5  X6\n",
              "63  0   5   5   5   2   5   5\n",
              "68  1   5   1   5   5   5   5\n",
              "86  1   5   3   3   3   5   5\n",
              "85  1   5   2   3   4   4   5\n",
              "83  1   5   3   2   4   4   4"
            ]
          },
          "execution_count": 67,
          "metadata": {},
          "output_type": "execute_result"
        }
      ],
      "source": [
        "df.sort_values(by=\"X1\", ascending=False).head()"
      ]
    },
    {
      "cell_type": "code",
      "execution_count": null,
      "id": "a3a77429",
      "metadata": {
        "id": "a3a77429",
        "outputId": "0c596e51-cccc-4695-ad9f-316b2f3400f8"
      },
      "outputs": [
        {
          "data": {
            "text/plain": [
              "4.333333333333333"
            ]
          },
          "execution_count": 68,
          "metadata": {},
          "output_type": "execute_result"
        }
      ],
      "source": [
        "df[\"X1\"].mean()"
      ]
    },
    {
      "cell_type": "code",
      "execution_count": null,
      "id": "719102d3",
      "metadata": {
        "id": "719102d3"
      },
      "outputs": [],
      "source": [
        "import seaborn as sns                       #visualisation\n",
        "import matplotlib.pyplot as plt             #visualisation\n",
        "%matplotlib inline     \n",
        "sns.set(color_codes=True)"
      ]
    },
    {
      "cell_type": "code",
      "execution_count": null,
      "id": "f003c6ad",
      "metadata": {
        "id": "f003c6ad",
        "outputId": "a083e17b-b868-410d-9c0a-65d155dcd734"
      },
      "outputs": [
        {
          "data": {
            "text/plain": [
              "Y     int64\n",
              "X1    int64\n",
              "X2    int64\n",
              "X3    int64\n",
              "X4    int64\n",
              "X5    int64\n",
              "X6    int64\n",
              "dtype: object"
            ]
          },
          "execution_count": 70,
          "metadata": {},
          "output_type": "execute_result"
        }
      ],
      "source": [
        "df.dtypes"
      ]
    },
    {
      "cell_type": "code",
      "execution_count": null,
      "id": "19b58f31",
      "metadata": {
        "id": "19b58f31",
        "outputId": "f4ac333f-6bac-4167-c686-0dbdfcea0644"
      },
      "outputs": [
        {
          "data": {
            "text/html": [
              "<div>\n",
              "<style scoped>\n",
              "    .dataframe tbody tr th:only-of-type {\n",
              "        vertical-align: middle;\n",
              "    }\n",
              "\n",
              "    .dataframe tbody tr th {\n",
              "        vertical-align: top;\n",
              "    }\n",
              "\n",
              "    .dataframe thead th {\n",
              "        text-align: right;\n",
              "    }\n",
              "</style>\n",
              "<table border=\"1\" class=\"dataframe\">\n",
              "  <thead>\n",
              "    <tr style=\"text-align: right;\">\n",
              "      <th></th>\n",
              "      <th>Y</th>\n",
              "      <th>X1</th>\n",
              "      <th>X2</th>\n",
              "      <th>X3</th>\n",
              "      <th>X4</th>\n",
              "      <th>X5</th>\n",
              "      <th>X6</th>\n",
              "    </tr>\n",
              "  </thead>\n",
              "  <tbody>\n",
              "    <tr>\n",
              "      <th>0</th>\n",
              "      <td>0</td>\n",
              "      <td>3</td>\n",
              "      <td>3</td>\n",
              "      <td>3</td>\n",
              "      <td>4</td>\n",
              "      <td>2</td>\n",
              "      <td>4</td>\n",
              "    </tr>\n",
              "    <tr>\n",
              "      <th>1</th>\n",
              "      <td>0</td>\n",
              "      <td>3</td>\n",
              "      <td>2</td>\n",
              "      <td>3</td>\n",
              "      <td>5</td>\n",
              "      <td>4</td>\n",
              "      <td>3</td>\n",
              "    </tr>\n",
              "    <tr>\n",
              "      <th>2</th>\n",
              "      <td>1</td>\n",
              "      <td>5</td>\n",
              "      <td>3</td>\n",
              "      <td>3</td>\n",
              "      <td>3</td>\n",
              "      <td>3</td>\n",
              "      <td>5</td>\n",
              "    </tr>\n",
              "    <tr>\n",
              "      <th>3</th>\n",
              "      <td>0</td>\n",
              "      <td>5</td>\n",
              "      <td>4</td>\n",
              "      <td>3</td>\n",
              "      <td>3</td>\n",
              "      <td>3</td>\n",
              "      <td>5</td>\n",
              "    </tr>\n",
              "    <tr>\n",
              "      <th>4</th>\n",
              "      <td>0</td>\n",
              "      <td>5</td>\n",
              "      <td>4</td>\n",
              "      <td>3</td>\n",
              "      <td>3</td>\n",
              "      <td>3</td>\n",
              "      <td>5</td>\n",
              "    </tr>\n",
              "  </tbody>\n",
              "</table>\n",
              "</div>"
            ],
            "text/plain": [
              "   Y  X1  X2  X3  X4  X5  X6\n",
              "0  0   3   3   3   4   2   4\n",
              "1  0   3   2   3   5   4   3\n",
              "2  1   5   3   3   3   3   5\n",
              "3  0   5   4   3   3   3   5\n",
              "4  0   5   4   3   3   3   5"
            ]
          },
          "execution_count": 120,
          "metadata": {},
          "output_type": "execute_result"
        }
      ],
      "source": [
        "df.head()\n"
      ]
    },
    {
      "cell_type": "code",
      "execution_count": null,
      "id": "78813cca",
      "metadata": {
        "id": "78813cca"
      },
      "outputs": [],
      "source": [
        "df = df.rename(columns={\"Score\": \"Y\"})"
      ]
    },
    {
      "cell_type": "code",
      "execution_count": null,
      "id": "0ffb5349",
      "metadata": {
        "id": "0ffb5349",
        "outputId": "e22ce04b-0402-438e-87c7-e2afc3f14823"
      },
      "outputs": [
        {
          "data": {
            "text/html": [
              "<div>\n",
              "<style scoped>\n",
              "    .dataframe tbody tr th:only-of-type {\n",
              "        vertical-align: middle;\n",
              "    }\n",
              "\n",
              "    .dataframe tbody tr th {\n",
              "        vertical-align: top;\n",
              "    }\n",
              "\n",
              "    .dataframe thead th {\n",
              "        text-align: right;\n",
              "    }\n",
              "</style>\n",
              "<table border=\"1\" class=\"dataframe\">\n",
              "  <thead>\n",
              "    <tr style=\"text-align: right;\">\n",
              "      <th></th>\n",
              "      <th>Y</th>\n",
              "      <th>X1</th>\n",
              "      <th>X2</th>\n",
              "      <th>X3</th>\n",
              "      <th>X4</th>\n",
              "      <th>X5</th>\n",
              "      <th>X6</th>\n",
              "    </tr>\n",
              "  </thead>\n",
              "  <tbody>\n",
              "    <tr>\n",
              "      <th>0</th>\n",
              "      <td>0</td>\n",
              "      <td>3</td>\n",
              "      <td>3</td>\n",
              "      <td>3</td>\n",
              "      <td>4</td>\n",
              "      <td>2</td>\n",
              "      <td>4</td>\n",
              "    </tr>\n",
              "    <tr>\n",
              "      <th>1</th>\n",
              "      <td>0</td>\n",
              "      <td>3</td>\n",
              "      <td>2</td>\n",
              "      <td>3</td>\n",
              "      <td>5</td>\n",
              "      <td>4</td>\n",
              "      <td>3</td>\n",
              "    </tr>\n",
              "    <tr>\n",
              "      <th>2</th>\n",
              "      <td>1</td>\n",
              "      <td>5</td>\n",
              "      <td>3</td>\n",
              "      <td>3</td>\n",
              "      <td>3</td>\n",
              "      <td>3</td>\n",
              "      <td>5</td>\n",
              "    </tr>\n",
              "    <tr>\n",
              "      <th>3</th>\n",
              "      <td>0</td>\n",
              "      <td>5</td>\n",
              "      <td>4</td>\n",
              "      <td>3</td>\n",
              "      <td>3</td>\n",
              "      <td>3</td>\n",
              "      <td>5</td>\n",
              "    </tr>\n",
              "    <tr>\n",
              "      <th>4</th>\n",
              "      <td>0</td>\n",
              "      <td>5</td>\n",
              "      <td>4</td>\n",
              "      <td>3</td>\n",
              "      <td>3</td>\n",
              "      <td>3</td>\n",
              "      <td>5</td>\n",
              "    </tr>\n",
              "  </tbody>\n",
              "</table>\n",
              "</div>"
            ],
            "text/plain": [
              "   Y  X1  X2  X3  X4  X5  X6\n",
              "0  0   3   3   3   4   2   4\n",
              "1  0   3   2   3   5   4   3\n",
              "2  1   5   3   3   3   3   5\n",
              "3  0   5   4   3   3   3   5\n",
              "4  0   5   4   3   3   3   5"
            ]
          },
          "execution_count": 122,
          "metadata": {},
          "output_type": "execute_result"
        }
      ],
      "source": [
        "df.head()"
      ]
    },
    {
      "cell_type": "code",
      "execution_count": null,
      "id": "edf0ad9a",
      "metadata": {
        "id": "edf0ad9a",
        "outputId": "d6d6a5ee-f016-4d39-d791-05235ea03d13"
      },
      "outputs": [
        {
          "data": {
            "text/plain": [
              "<AxesSubplot:xlabel='X1'>"
            ]
          },
          "execution_count": 123,
          "metadata": {},
          "output_type": "execute_result"
        },
        {
          "data": {
            "image/png": "[encoded data removed]",
            "text/plain": [
              "<Figure size 432x288 with 1 Axes>"
            ]
          },
          "metadata": {},
          "output_type": "display_data"
        }
      ],
      "source": [
        "sns.boxplot(x=df['X1'])"
      ]
    },
    {
      "cell_type": "code",
      "execution_count": null,
      "id": "303558d7",
      "metadata": {
        "id": "303558d7",
        "outputId": "05062d10-28dc-4058-af36-f36f68730b64"
      },
      "outputs": [
        {
          "data": {
            "text/plain": [
              "<AxesSubplot:xlabel='X2'>"
            ]
          },
          "execution_count": 75,
          "metadata": {},
          "output_type": "execute_result"
        },
        {
          "data": {
            "image/png": "[encoded data removed]",
            "text/plain": [
              "<Figure size 432x288 with 1 Axes>"
            ]
          },
          "metadata": {},
          "output_type": "display_data"
        }
      ],
      "source": [
        "sns.boxplot(x=df['X2'])"
      ]
    },
    {
      "cell_type": "code",
      "execution_count": null,
      "id": "abc7d5b9",
      "metadata": {
        "id": "abc7d5b9",
        "outputId": "ff0bedb1-8497-46e7-fdc1-66b5f1fb436d"
      },
      "outputs": [
        {
          "data": {
            "text/plain": [
              "<AxesSubplot:xlabel='X3'>"
            ]
          },
          "execution_count": 76,
          "metadata": {},
          "output_type": "execute_result"
        },
        {
          "data": {
            "image/png": "[encoded data removed]",
            "text/plain": [
              "<Figure size 432x288 with 1 Axes>"
            ]
          },
          "metadata": {},
          "output_type": "display_data"
        }
      ],
      "source": [
        "sns.boxplot(x=df['X3'])"
      ]
    },
    {
      "cell_type": "code",
      "execution_count": null,
      "id": "e936a25c",
      "metadata": {
        "id": "e936a25c",
        "outputId": "0ea3e41a-07ec-4e68-9aa4-01bf61a82976"
      },
      "outputs": [
        {
          "data": {
            "text/plain": [
              "<AxesSubplot:xlabel='X4'>"
            ]
          },
          "execution_count": 77,
          "metadata": {},
          "output_type": "execute_result"
        },
        {
          "data": {
            "image/png": "[encoded data removed]",
            "text/plain": [
              "<Figure size 432x288 with 1 Axes>"
            ]
          },
          "metadata": {},
          "output_type": "display_data"
        }
      ],
      "source": [
        "sns.boxplot(x=df['X4'])"
      ]
    },
    {
      "cell_type": "code",
      "execution_count": null,
      "id": "a04b7d91",
      "metadata": {
        "id": "a04b7d91",
        "outputId": "3e004081-2e2f-4b4f-ce46-27eb34df18f7"
      },
      "outputs": [
        {
          "data": {
            "text/plain": [
              "<AxesSubplot:xlabel='X5'>"
            ]
          },
          "execution_count": 78,
          "metadata": {},
          "output_type": "execute_result"
        },
        {
          "data": {
            "image/png": "[encoded data removed]",
            "text/plain": [
              "<Figure size 432x288 with 1 Axes>"
            ]
          },
          "metadata": {},
          "output_type": "display_data"
        }
      ],
      "source": [
        "sns.boxplot(x=df['X5'])"
      ]
    },
    {
      "cell_type": "code",
      "execution_count": null,
      "id": "043d7cb9",
      "metadata": {
        "id": "043d7cb9",
        "outputId": "7a584b67-e048-45c3-d5ce-06a50e58f388"
      },
      "outputs": [
        {
          "data": {
            "text/plain": [
              "<AxesSubplot:xlabel='X6'>"
            ]
          },
          "execution_count": 79,
          "metadata": {},
          "output_type": "execute_result"
        },
        {
          "data": {
            "image/png": "[encoded data removed]",
            "text/plain": [
              "<Figure size 432x288 with 1 Axes>"
            ]
          },
          "metadata": {},
          "output_type": "display_data"
        }
      ],
      "source": [
        "sns.boxplot(x=df['X6'])"
      ]
    },
    {
      "cell_type": "code",
      "execution_count": null,
      "id": "a0c28781",
      "metadata": {
        "id": "a0c28781",
        "outputId": "b3eebd1d-0d71-40a4-e012-c8d346e92f1f"
      },
      "outputs": [
        {
          "data": {
            "text/html": [
              "<div>\n",
              "<style scoped>\n",
              "    .dataframe tbody tr th:only-of-type {\n",
              "        vertical-align: middle;\n",
              "    }\n",
              "\n",
              "    .dataframe tbody tr th {\n",
              "        vertical-align: top;\n",
              "    }\n",
              "\n",
              "    .dataframe thead th {\n",
              "        text-align: right;\n",
              "    }\n",
              "</style>\n",
              "<table border=\"1\" class=\"dataframe\">\n",
              "  <thead>\n",
              "    <tr style=\"text-align: right;\">\n",
              "      <th></th>\n",
              "      <th>Y</th>\n",
              "      <th>X1</th>\n",
              "      <th>X2</th>\n",
              "      <th>X3</th>\n",
              "      <th>X4</th>\n",
              "      <th>X5</th>\n",
              "      <th>X6</th>\n",
              "    </tr>\n",
              "  </thead>\n",
              "  <tbody>\n",
              "    <tr>\n",
              "      <th>Y</th>\n",
              "      <td>1.000000</td>\n",
              "      <td>0.280160</td>\n",
              "      <td>-0.024274</td>\n",
              "      <td>0.150838</td>\n",
              "      <td>0.064415</td>\n",
              "      <td>0.224522</td>\n",
              "      <td>0.167669</td>\n",
              "    </tr>\n",
              "    <tr>\n",
              "      <th>X1</th>\n",
              "      <td>0.280160</td>\n",
              "      <td>1.000000</td>\n",
              "      <td>0.059797</td>\n",
              "      <td>0.283358</td>\n",
              "      <td>0.087541</td>\n",
              "      <td>0.432772</td>\n",
              "      <td>0.411873</td>\n",
              "    </tr>\n",
              "    <tr>\n",
              "      <th>X2</th>\n",
              "      <td>-0.024274</td>\n",
              "      <td>0.059797</td>\n",
              "      <td>1.000000</td>\n",
              "      <td>0.184129</td>\n",
              "      <td>0.114838</td>\n",
              "      <td>0.039996</td>\n",
              "      <td>-0.062205</td>\n",
              "    </tr>\n",
              "    <tr>\n",
              "      <th>X3</th>\n",
              "      <td>0.150838</td>\n",
              "      <td>0.283358</td>\n",
              "      <td>0.184129</td>\n",
              "      <td>1.000000</td>\n",
              "      <td>0.302618</td>\n",
              "      <td>0.358397</td>\n",
              "      <td>0.203750</td>\n",
              "    </tr>\n",
              "    <tr>\n",
              "      <th>X4</th>\n",
              "      <td>0.064415</td>\n",
              "      <td>0.087541</td>\n",
              "      <td>0.114838</td>\n",
              "      <td>0.302618</td>\n",
              "      <td>1.000000</td>\n",
              "      <td>0.293115</td>\n",
              "      <td>0.215888</td>\n",
              "    </tr>\n",
              "    <tr>\n",
              "      <th>X5</th>\n",
              "      <td>0.224522</td>\n",
              "      <td>0.432772</td>\n",
              "      <td>0.039996</td>\n",
              "      <td>0.358397</td>\n",
              "      <td>0.293115</td>\n",
              "      <td>1.000000</td>\n",
              "      <td>0.320195</td>\n",
              "    </tr>\n",
              "    <tr>\n",
              "      <th>X6</th>\n",
              "      <td>0.167669</td>\n",
              "      <td>0.411873</td>\n",
              "      <td>-0.062205</td>\n",
              "      <td>0.203750</td>\n",
              "      <td>0.215888</td>\n",
              "      <td>0.320195</td>\n",
              "      <td>1.000000</td>\n",
              "    </tr>\n",
              "  </tbody>\n",
              "</table>\n",
              "</div>"
            ],
            "text/plain": [
              "           Y        X1        X2        X3        X4        X5        X6\n",
              "Y   1.000000  0.280160 -0.024274  0.150838  0.064415  0.224522  0.167669\n",
              "X1  0.280160  1.000000  0.059797  0.283358  0.087541  0.432772  0.411873\n",
              "X2 -0.024274  0.059797  1.000000  0.184129  0.114838  0.039996 -0.062205\n",
              "X3  0.150838  0.283358  0.184129  1.000000  0.302618  0.358397  0.203750\n",
              "X4  0.064415  0.087541  0.114838  0.302618  1.000000  0.293115  0.215888\n",
              "X5  0.224522  0.432772  0.039996  0.358397  0.293115  1.000000  0.320195\n",
              "X6  0.167669  0.411873 -0.062205  0.203750  0.215888  0.320195  1.000000"
            ]
          },
          "execution_count": 98,
          "metadata": {},
          "output_type": "execute_result"
        },
        {
          "data": {
            "image/png": "[encoded data removed]",
            "text/plain": [
              "<Figure size 720x360 with 2 Axes>"
            ]
          },
          "metadata": {},
          "output_type": "display_data"
        }
      ],
      "source": [
        "plt.figure(figsize=(10,5))\n",
        "c= df.corr()\n",
        "sns.heatmap(c,cmap=\"BrBG\",annot=True)\n",
        "c"
      ]
    },
    {
      "cell_type": "code",
      "execution_count": null,
      "id": "590f92f8",
      "metadata": {
        "id": "590f92f8"
      },
      "outputs": [],
      "source": [
        "import matplotlib.pyplot as plt\n",
        "import numpy as np\n"
      ]
    },
    {
      "cell_type": "code",
      "execution_count": null,
      "id": "ac44d24a",
      "metadata": {
        "id": "ac44d24a",
        "outputId": "ea8acd4e-2993-4267-b62e-2d1466554a31"
      },
      "outputs": [
        {
          "data": {
            "image/png": "[encoded data removed]",
            "text/plain": [
              "<Figure size 432x288 with 1 Axes>"
            ]
          },
          "metadata": {
            "needs_background": "light"
          },
          "output_type": "display_data"
        }
      ],
      "source": [
        "plt.plot([0,1,2,3,4,5,6],[0,1,2,3,4,5,6])\n",
        "\n",
        "plt.title(\"First Plot\")\n",
        "plt.xlabel(\"X label\")\n",
        "plt.ylabel (\"Y label\")\n",
        "plt.show()"
      ]
    },
    {
      "cell_type": "code",
      "execution_count": null,
      "id": "fe2766e6",
      "metadata": {
        "id": "fe2766e6"
      },
      "outputs": [],
      "source": [
        "plt.plot(6,5,0,126)\n",
        "plt.plot()\n",
        "plt.show()\n"
      ]
    },
    {
      "cell_type": "code",
      "execution_count": null,
      "id": "58f08f11",
      "metadata": {
        "id": "58f08f11",
        "outputId": "25e6e1c3-c0d4-48bc-c331-de238ffdc954"
      },
      "outputs": [
        {
          "data": {
            "image/png": "[encoded data removed]",
            "text/plain": [
              "<Figure size 432x288 with 1 Axes>"
            ]
          },
          "metadata": {
            "needs_background": "light"
          },
          "output_type": "display_data"
        }
      ],
      "source": [
        "divisions = [\"Y\", \"x1\", \"x2\", \"x3\", \"x4\", \"x5\", \"x6\"]\n",
        "\n",
        "plt.plot(6,5,0,126)\n",
        "plt.show()"
      ]
    },
    {
      "cell_type": "code",
      "execution_count": null,
      "id": "8f95abf8",
      "metadata": {
        "id": "8f95abf8",
        "outputId": "49614d7a-8b81-41e4-f921-7e76611e2a27"
      },
      "outputs": [
        {
          "data": {
            "text/plain": [
              "126"
            ]
          },
          "execution_count": 34,
          "metadata": {},
          "output_type": "execute_result"
        }
      ],
      "source": [
        "len(df)\n"
      ]
    },
    {
      "cell_type": "code",
      "execution_count": null,
      "id": "f92d56d5",
      "metadata": {
        "id": "f92d56d5",
        "outputId": "7ba099df-3570-40c0-f9b4-b948cecf28f7"
      },
      "outputs": [
        {
          "name": "stdout",
          "output_type": "stream",
          "text": [
            "<class 'pandas.core.frame.DataFrame'>\n",
            "RangeIndex: 126 entries, 0 to 125\n",
            "Data columns (total 7 columns):\n",
            " #   Column  Non-Null Count  Dtype\n",
            "---  ------  --------------  -----\n",
            " 0   Y       126 non-null    int64\n",
            " 1   X1      126 non-null    int64\n",
            " 2   X2      126 non-null    int64\n",
            " 3   X3      126 non-null    int64\n",
            " 4   X4      126 non-null    int64\n",
            " 5   X5      126 non-null    int64\n",
            " 6   X6      126 non-null    int64\n",
            "dtypes: int64(7)\n",
            "memory usage: 7.0 KB\n"
          ]
        }
      ],
      "source": [
        "df.info()"
      ]
    },
    {
      "cell_type": "code",
      "execution_count": null,
      "id": "44a37167",
      "metadata": {
        "id": "44a37167",
        "outputId": "f281af22-a9d5-418d-f44d-bedd9ef24124"
      },
      "outputs": [
        {
          "data": {
            "text/plain": [
              "(126, 7)"
            ]
          },
          "execution_count": 36,
          "metadata": {},
          "output_type": "execute_result"
        }
      ],
      "source": [
        "df.shape\n"
      ]
    },
    {
      "cell_type": "code",
      "execution_count": null,
      "id": "dac88487",
      "metadata": {
        "id": "dac88487",
        "outputId": "1ffab355-1c49-4862-84d7-a300243120eb"
      },
      "outputs": [
        {
          "data": {
            "text/plain": [
              "882"
            ]
          },
          "execution_count": 37,
          "metadata": {},
          "output_type": "execute_result"
        }
      ],
      "source": [
        "df.size"
      ]
    },
    {
      "cell_type": "code",
      "execution_count": null,
      "id": "f967ebff",
      "metadata": {
        "id": "f967ebff",
        "outputId": "92bd7157-1152-4bc8-ad9a-d2bad330dba3"
      },
      "outputs": [
        {
          "name": "stdout",
          "output_type": "stream",
          "text": [
            "0    0\n",
            "1    0\n",
            "2    1\n",
            "3    0\n",
            "4    0\n",
            "Name: Y, dtype: int64\n"
          ]
        }
      ],
      "source": [
        "s=df['Y']\n",
        "print(s.head())"
      ]
    },
    {
      "cell_type": "code",
      "execution_count": null,
      "id": "b4ab5965",
      "metadata": {
        "id": "b4ab5965",
        "outputId": "ec4a080d-4393-442a-d7c8-cf75ec9f466f"
      },
      "outputs": [
        {
          "data": {
            "text/plain": [
              "1    69\n",
              "0    57\n",
              "Name: Y, dtype: int64"
            ]
          },
          "execution_count": 47,
          "metadata": {},
          "output_type": "execute_result"
        }
      ],
      "source": [
        "df[\"Y\"].value_counts()"
      ]
    },
    {
      "cell_type": "code",
      "execution_count": null,
      "id": "06358fa6",
      "metadata": {
        "id": "06358fa6",
        "outputId": "2c78c50d-328d-4276-c73a-f80465ee8552"
      },
      "outputs": [
        {
          "data": {
            "text/plain": [
              "0.5476190476190477"
            ]
          },
          "execution_count": 50,
          "metadata": {},
          "output_type": "execute_result"
        }
      ],
      "source": [
        "df[\"Y\"].mean()"
      ]
    },
    {
      "cell_type": "code",
      "execution_count": null,
      "id": "667e760d",
      "metadata": {
        "id": "667e760d",
        "outputId": "b4228f41-db7d-4577-9575-385b65d503fb"
      },
      "outputs": [
        {
          "data": {
            "text/plain": [
              "5    65\n",
              "4    40\n",
              "3    20\n",
              "1     1\n",
              "Name: X1, dtype: int64"
            ]
          },
          "execution_count": 44,
          "metadata": {},
          "output_type": "execute_result"
        }
      ],
      "source": [
        "df[\"X1\"].value_counts()"
      ]
    },
    {
      "cell_type": "code",
      "execution_count": null,
      "id": "bfbe0bf8",
      "metadata": {
        "id": "bfbe0bf8",
        "outputId": "372f3545-11ff-4b09-a461-593a562eefb4"
      },
      "outputs": [
        {
          "data": {
            "text/plain": [
              "4.333333333333333"
            ]
          },
          "execution_count": 52,
          "metadata": {},
          "output_type": "execute_result"
        }
      ],
      "source": [
        "df[\"X1\"].mean()"
      ]
    },
    {
      "cell_type": "code",
      "execution_count": null,
      "id": "dae42eb5",
      "metadata": {
        "id": "dae42eb5",
        "outputId": "02732daf-0c1d-4b97-8d84-fe30f474642c"
      },
      "outputs": [
        {
          "data": {
            "text/plain": [
              "3    42\n",
              "2    34\n",
              "1    27\n",
              "4    17\n",
              "5     6\n",
              "Name: X2, dtype: int64"
            ]
          },
          "execution_count": 53,
          "metadata": {},
          "output_type": "execute_result"
        }
      ],
      "source": [
        "df[\"X2\"].value_counts()"
      ]
    },
    {
      "cell_type": "code",
      "execution_count": null,
      "id": "ba12bd21",
      "metadata": {
        "id": "ba12bd21",
        "outputId": "e6ae64c3-cddf-422e-8a9c-bfcb9a81fe33"
      },
      "outputs": [
        {
          "data": {
            "text/plain": [
              "2.5317460317460316"
            ]
          },
          "execution_count": 54,
          "metadata": {},
          "output_type": "execute_result"
        }
      ],
      "source": [
        "df[\"X2\"].mean()"
      ]
    },
    {
      "cell_type": "code",
      "execution_count": null,
      "id": "844560c9",
      "metadata": {
        "id": "844560c9",
        "outputId": "315bdc9e-803c-4185-f72f-65214ecfe1f5"
      },
      "outputs": [
        {
          "data": {
            "text/plain": [
              "3    55\n",
              "4    33\n",
              "5    17\n",
              "2    14\n",
              "1     7\n",
              "Name: X3, dtype: int64"
            ]
          },
          "execution_count": 57,
          "metadata": {},
          "output_type": "execute_result"
        }
      ],
      "source": [
        "df[\"X3\"].value_counts()\n"
      ]
    },
    {
      "cell_type": "code",
      "execution_count": null,
      "id": "f4332996",
      "metadata": {
        "id": "f4332996",
        "outputId": "21eae904-6976-41e6-9e3e-49635c9019a1"
      },
      "outputs": [
        {
          "data": {
            "text/plain": [
              "3.3095238095238093"
            ]
          },
          "execution_count": 58,
          "metadata": {},
          "output_type": "execute_result"
        }
      ],
      "source": [
        "df[\"X3\"].mean()"
      ]
    },
    {
      "cell_type": "code",
      "execution_count": null,
      "id": "e1793dde",
      "metadata": {
        "id": "e1793dde",
        "outputId": "ce832b3a-538c-447c-899c-df2d4cdce9de"
      },
      "outputs": [
        {
          "data": {
            "text/plain": [
              "4    53\n",
              "3    41\n",
              "5    25\n",
              "2     5\n",
              "1     2\n",
              "Name: X4, dtype: int64"
            ]
          },
          "execution_count": 59,
          "metadata": {},
          "output_type": "execute_result"
        }
      ],
      "source": [
        "df[\"X4\"].value_counts()"
      ]
    },
    {
      "cell_type": "code",
      "execution_count": null,
      "id": "a6b29e9c",
      "metadata": {
        "id": "a6b29e9c",
        "outputId": "16e32b79-14a1-46cf-924c-6f119f8f7972"
      },
      "outputs": [
        {
          "data": {
            "text/plain": [
              "3.746031746031746"
            ]
          },
          "execution_count": 60,
          "metadata": {},
          "output_type": "execute_result"
        }
      ],
      "source": [
        "df[\"X4\"].mean()"
      ]
    },
    {
      "cell_type": "code",
      "execution_count": null,
      "id": "d62c475b",
      "metadata": {
        "id": "d62c475b",
        "outputId": "11f843d1-3f80-42e1-9352-7607129c00df"
      },
      "outputs": [
        {
          "data": {
            "text/plain": [
              "4    50\n",
              "5    31\n",
              "3    22\n",
              "2    16\n",
              "1     7\n",
              "Name: X5, dtype: int64"
            ]
          },
          "execution_count": 61,
          "metadata": {},
          "output_type": "execute_result"
        }
      ],
      "source": [
        "df[\"X5\"].value_counts()"
      ]
    },
    {
      "cell_type": "code",
      "execution_count": null,
      "id": "a3b289a8",
      "metadata": {
        "id": "a3b289a8",
        "outputId": "ae0676ea-465f-41a1-c005-4e33f7dcf75e"
      },
      "outputs": [
        {
          "data": {
            "text/plain": [
              "3.6507936507936507"
            ]
          },
          "execution_count": 62,
          "metadata": {},
          "output_type": "execute_result"
        }
      ],
      "source": [
        "df[\"X5\"].mean()"
      ]
    },
    {
      "cell_type": "code",
      "execution_count": null,
      "id": "35ef8caf",
      "metadata": {
        "id": "35ef8caf",
        "outputId": "6b4de769-875f-48de-8b73-b64555f7b57d"
      },
      "outputs": [
        {
          "data": {
            "text/plain": [
              "5    57\n",
              "4    47\n",
              "3    20\n",
              "2     1\n",
              "1     1\n",
              "Name: X6, dtype: int64"
            ]
          },
          "execution_count": 63,
          "metadata": {},
          "output_type": "execute_result"
        }
      ],
      "source": [
        "df[\"X6\"].value_counts()"
      ]
    },
    {
      "cell_type": "code",
      "execution_count": null,
      "id": "715bb83b",
      "metadata": {
        "id": "715bb83b",
        "outputId": "a61605ce-3533-4503-f2b2-26b52fc2c8c5"
      },
      "outputs": [
        {
          "data": {
            "text/plain": [
              "4.253968253968254"
            ]
          },
          "execution_count": 64,
          "metadata": {},
          "output_type": "execute_result"
        }
      ],
      "source": [
        "df[\"X6\"].mean()"
      ]
    },
    {
      "cell_type": "code",
      "execution_count": null,
      "id": "ea349ce9",
      "metadata": {
        "id": "ea349ce9"
      },
      "outputs": [],
      "source": [
        ""
      ]
    }
  ],
  "metadata": {
    "kernelspec": {
      "display_name": "Python 3 (ipykernel)",
      "language": "python",
      "name": "python3"
    },
    "language_info": {
      "codemirror_mode": {
        "name": "ipython",
        "version": 3
      },
      "file_extension": ".py",
      "mimetype": "text/x-python",
      "name": "python",
      "nbconvert_exporter": "python",
      "pygments_lexer": "ipython3",
      "version": "3.9.7"
    },
    "colab": {
      "name": "Acmepython-Copy3.ipynb",
      "provenance": [],
      "include_colab_link": true
    }
  },
  "nbformat": 4,
  "nbformat_minor": 5
}